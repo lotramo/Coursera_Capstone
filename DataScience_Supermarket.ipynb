{
    "cells": [
        {
            "cell_type": "markdown",
            "metadata": {
                "collapsed": true
            },
            "source": "# Find the right Place for a organic supermarket in Munich"
        },
        {
            "cell_type": "markdown",
            "metadata": {},
            "source": "**A Introduction:**"
        },
        {
            "cell_type": "markdown",
            "metadata": {},
            "source": "A.1 Description & Disscusion of the Background"
        },
        {
            "cell_type": "markdown",
            "metadata": {},
            "source": "With 1.5 million inhabitants, Munich is only the third largest city in Germany, but the one with the highest population density, with 4777 inhabitants per square kilometer. As a resident of this city, I decided to use Munich in my project. The city is divided into 55 neightborhoods in total in an area of 310 km\u00b2.[1]\n\nAs you can see from these data, Munich is a city with a high population density. With my data analysis I would like to support someone who wants to open an organic supermarket in Munich. With the analysis of the venues in Munich I would like to find districts in which cultural facilities or restaurants are less available but sports facilities, playgrounds and food shopping facilities are more represented. However, the number of organic supermarkets should be low in these areas to have as little competitors as possible. Since a supermarket needs a relatively large area to operate, I use the rent index to find areas where rents are not as high. Also, it is expected that in areas with low rents, people are more likely to live and therefore need to buy food. \n"
        },
        {
            "cell_type": "markdown",
            "metadata": {},
            "source": "A.2 Data Description"
        },
        {
            "cell_type": "markdown",
            "metadata": {},
            "source": "-\tI found the postal codes of germany from Suche-Postleitzahl.org [2]. The .geojson file has coordinates of the postal codes of germany. I have to clean the data and reduce it to the city of Munich. \n\n\n-\tFor the neighborhoods of munich i fount the rent index at [3]. At Wikipedia the assignment of the postal codes to the neighborhoods i could find. [4]. To show the rent index on a cloropleth map of munich i have to combine the postal codes with the rentindex.  \n\n\n-\tWith geopy/geocoder i will manage to get the central coordinates of the neighborhoods. [5]\n\n\n-\tI will use Foursquare API to get the most common venues of given neightborhoods of Munich [6]. \n\n\n-   By using kMeans i want to cluster the neighborhoods to find ones where the people live and cultural facilities are less available.\n\n\n-   If numbers of organic supermarkets are not available at Foursquare i will get them from google. \n\n\n-\tFinally i want to give an overview on the data by a map and graphics on Clusters, Rentindex and counts of organic supermarkets in the neighborhoods. \n\n"
        },
        {
            "cell_type": "markdown",
            "metadata": {},
            "source": "[1] https://de.wikipedia.org/wiki/Liste_der_Stadtteile_M%C3%BCnchens\n\n[2] https://www.suche-postleitzahl.org/plz-karte-erstellen  \n\n[3] https://de.statista.com/statistik/daten/studie/260438/umfrage/mietpreise-in-muenchen-nach-bezirken/#professional\n\n[4] https://www.suche-postleitzahl.org/muenchen-plz-80331-85540.52bb\n\n[5] https://geopy.readthedocs.io/en/stable/ \n\n[6] https://foursquare.com/\n"
        },
        {
            "cell_type": "markdown",
            "metadata": {},
            "source": "#Karte erstellen f\u00fcr die Stadtteile"
        },
        {
            "cell_type": "code",
            "execution_count": 22,
            "metadata": {},
            "outputs": [],
            "source": ""
        },
        {
            "cell_type": "code",
            "execution_count": null,
            "metadata": {},
            "outputs": [],
            "source": "#Venues raussuchen f\u00fcr die Stadtteile"
        },
        {
            "cell_type": "code",
            "execution_count": null,
            "metadata": {},
            "outputs": [],
            "source": ""
        },
        {
            "cell_type": "code",
            "execution_count": null,
            "metadata": {},
            "outputs": [],
            "source": ""
        }
    ],
    "metadata": {
        "kernelspec": {
            "display_name": "Python 3.7",
            "language": "python",
            "name": "python3"
        },
        "language_info": {
            "codemirror_mode": {
                "name": "ipython",
                "version": 3
            },
            "file_extension": ".py",
            "mimetype": "text/x-python",
            "name": "python",
            "nbconvert_exporter": "python",
            "pygments_lexer": "ipython3",
            "version": "3.7.10"
        }
    },
    "nbformat": 4,
    "nbformat_minor": 1
}